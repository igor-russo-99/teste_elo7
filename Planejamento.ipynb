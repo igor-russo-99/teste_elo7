{
 "cells": [
  {
   "cell_type": "markdown",
   "id": "temporal-milan",
   "metadata": {},
   "source": [
    "# Planejamento\n",
    "Este documento descreve as etapas que serão seguidas para solução do teste técnico.\n"
   ]
  },
  {
   "cell_type": "markdown",
   "id": "delayed-expense",
   "metadata": {},
   "source": [
    "## Parte 1 - Análise exploratória\n",
    "---\n",
    "Esta etapa será fundamental para entender os dados e gerar insights sobre como estes podem ser utilizados para responder às perguntas do negócio, isto é, para criação dos sistemas das Partes 2 e 3.\n",
    "\n",
    "Etapas:\n",
    "\n",
    "- Importação dos pacotes e módulos utilizados\n",
    "- Carregamento do arquivo csv criando um Dataframe\n",
    "- Descrição dos dados\n",
    "    - Análise do volume de dados\n",
    "        - Será suficiente utilizar pandas e scikit-learn? Ou será necessário Dask ou Spark?\n",
    "    - Análise dos tipos de dados\n",
    "    - Tratamento de dados faltantes\n",
    "        - Decidir melhor estratégia dependendo das características dos dados\n",
    "    - Resumo geral dos dados\n",
    "        - Estatística descritiva dos dados\n",
    "            - Medidas de tendência central\n",
    "                - Média, mediana            \n",
    "            - Medidas de dispersão\n",
    "                - Std, min, max, skew, kurtosis\n",
    "\n",
    "\n",
    "- Feature engineering\n",
    "    - Verificar se o tamanho da query é relevante para a tarefa de classificação\n",
    "\n",
    "- Análise exploratória\n",
    "    - Análise univariada - Qual a distribuição de cada variável?\n",
    "        - Análise das classes utilizadas no sistema de classificação\n",
    "        - Features numéricas\n",
    "        - Features categóricas\n",
    "     - Análise bivariada     \n",
    "         - Qual a distribuição de produtos por categoria?\n",
    "         - Como os preços variam por categoria?\n",
    "         - Qual a variação dos atributos dos produtos (peso, preço, etc)? \n",
    "         - Quais os produtos mais vendidos?\n",
    "         - Quais os produtos mais visualizados?\n",
    "         - Qual a relação entre as vendas e visualizações dos produtos?\n",
    "         - Qual o percentual de visualizações do produto que se convertem em vendas?\n",
    "         - Como a média de vendas de produto varia por categoria?\n",
    "         - Como a média de visualizações de produto varia por categoria?\n",
    "         - Como a taxa de conversão do produto varia por categoria?\n",
    "         - Como os pesos variam por categoria?\n",
    "     - Análise multivariada - Há correlação entre as variáveis?\n",
    "         - Variáveis numéricas         "
   ]
  },
  {
   "cell_type": "markdown",
   "id": "available-quest",
   "metadata": {
    "heading_collapsed": true
   },
   "source": [
    "## Parte 2 - Sistema de Classificação de Produtos\n",
    "---\n",
    "\n",
    "O objetivo desta etapa é criar um classificador de produtos utilizando o dataset fornecido e as transformações propostas, adotando as ideias geradas durante a análise exploratória.\n",
    "\n",
    "## Método\n",
    "- Separação dos dados em treinamento/teste\n",
    "- Seleção de features utilizando feature importances \n",
    "- Criação de um pipeline para facilitar os experimentos com o classificador (além de permitir a aplicação dos mesmos passos ao conjunto de testes ao final do processo)\n",
    "    - Processamento de linguagem natural\n",
    "        - CountVectorizer\n",
    "        - TfidfTransformer\n",
    "    - Transformação da escala das features numéricas\n",
    "        - MinMaxScaler (pois as features não apresentam distribuição normal)\n",
    "- Serão experimentados 4 métodos que não assumem normalidade das features:   \n",
    "    - SVC\n",
    "    - Multinomial Naive Bayes    \n",
    "    - KNeighborsClassifier\n",
    "    - RandomForest\n",
    "\n",
    "- A técnica de para geração dos conjuntos de treinamento e validação será a validação cruzada com Stratified K-Folds (sklearn.model_selection.StratifiedKFold), de forma a manter a mesma proporção entre as classes em cada par de conjuntos de treinamento e validação.\n",
    "- Seleção do melhor utilizando a métrica precisão\n",
    "    - Considerando que o impacto de falsos positivos é equivalente ao de falsos negativos\n",
    "- Avaliação do melhor modelo utilizando o conjunto de testes\n",
    "- Treinamento do modelo utilizando todos os dados disponíveis.\n",
    "- Salvamento do modelo em arquivo para uso posterior."
   ]
  },
  {
   "cell_type": "markdown",
   "id": "brutal-advocate",
   "metadata": {
    "hidden": true
   },
   "source": []
  },
  {
   "cell_type": "markdown",
   "id": "uniform-means",
   "metadata": {
    "hidden": true
   },
   "source": []
  },
  {
   "cell_type": "markdown",
   "id": "mighty-assumption",
   "metadata": {
    "hidden": true
   },
   "source": []
  },
  {
   "cell_type": "markdown",
   "id": "korean-possession",
   "metadata": {
    "hidden": true
   },
   "source": []
  },
  {
   "cell_type": "markdown",
   "id": "running-summary",
   "metadata": {
    "hidden": true
   },
   "source": []
  },
  {
   "cell_type": "markdown",
   "id": "static-translation",
   "metadata": {},
   "source": [
    "# Parte 3 - Sistema de termos de busca\n",
    "--- \n",
    "\n",
    "Como o classificador construído na etapa passada utiliza o termo de busca e o preço para predizer a categoria, iniciarei a investigação das classes de intenção buscando por faixas de preço, utilizando o algoritmo k-means.\n",
    "\n",
    "Após a determinação do número de classes (grupos) através de testes variando o valor de K, os dados serão rotulados.\n",
    "\n",
    "Como as faixas de preço não estarão disponíveis a partir do termo de busca, será criado um classificador que indicará o grupo a partir da query de busca.\n",
    "\n",
    "O dataset será dividido em treinamento/validação e testes. O classificador de intenção será treinado a partir do conjunto de treinamento e seu desempenho será verificado utilizando o conjunto de teste."
   ]
  },
  {
   "cell_type": "markdown",
   "id": "nuclear-zoning",
   "metadata": {},
   "source": [
    "## Parte 4 - Avaliação do Sistema de Classificação\n",
    "---\n",
    "\n",
    "- O sistema de classificação será avaliado nas etapas 2 e 3, através da separação do dataset em dados de treinamento, validação e teste."
   ]
  },
  {
   "cell_type": "markdown",
   "id": "speaking-valuable",
   "metadata": {},
   "source": [
    "## Parte 5 - Colaboração entre os sistemas\n",
    "---\n",
    "\n",
    "Nesta etapa os sistemas de classificação de categoria e intenção serão integrados. \n",
    "\n",
    "A partir de uma query, o sistema deve identificar a categoria e a classe de intenção do usuário.\n",
    "Além disso, um sistema de recomendação irá indicar 10 produtos de acordo com a categoria e faixa de preço desejada pelo usuário.\n",
    "\n",
    "Funcionamento do sistema final:\n",
    "\n",
    "- Entrada\n",
    "    - Termo de busca qualquer\n",
    "- Saídas\n",
    "    1. A categoria do termo de busca\n",
    "    2. O nome da classe de intenção do usuário\n",
    "    3. Uma lista com o id e o título dos dez produtos recomendados\n",
    "    \n",
    "A partir do termo de busca, será utilizado o classificador de intenções do usuário para identificar a classe de preços desejada. \n",
    "\n",
    "O termo de busca será utilizado em conjunto com a mediana dos preços da classe de intenção como entradas do classificador de categoria.\n",
    "\n",
    "A partir da categoria e faixa de preços, serão selecionados os 10 produtos mais desejados do dataset, de acordo com a média de visualizações (feature 'view_count)."
   ]
  }
 ],
 "metadata": {
  "kernelspec": {
   "display_name": "Python 3",
   "language": "python",
   "name": "python3"
  },
  "language_info": {
   "codemirror_mode": {
    "name": "ipython",
    "version": 3
   },
   "file_extension": ".py",
   "mimetype": "text/x-python",
   "name": "python",
   "nbconvert_exporter": "python",
   "pygments_lexer": "ipython3",
   "version": "3.6.9"
  }
 },
 "nbformat": 4,
 "nbformat_minor": 5
}
